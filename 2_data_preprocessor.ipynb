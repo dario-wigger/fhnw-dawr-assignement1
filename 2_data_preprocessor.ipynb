{
 "cells": [
  {
   "cell_type": "markdown",
   "metadata": {},
   "source": [
    "# Data Preprocessor\n",
    "Dieses Notebook bereitet die Daten aus **1_sources** auf und speichert sie in einem einheitlichen CSV-Format im Ordner **2_preprocessed**.\n",
    "Die einzelnen Datensätze wurden überprüft, gefundene Fehler werden in diesem Notebook behoben. Am Ende des Notebooks werden die aufbereiteten Daten validiert."
   ]
  },
  {
   "cell_type": "code",
   "execution_count": 1,
   "metadata": {},
   "outputs": [],
   "source": [
    "import pandas as pd\n",
    "import os\n",
    "from config import SOURCE_BFS_DATA_FOREIGNERS, SOURCE_STADA_SOCIAL_ASSISTANCE_RATE, SOURCE_STADA_FISCAL_POWER, SOURCE_WIKIPEDIA_COMMUNITY_STATS, PREPROCESSED_DIR, PREPROCESSED_BFS_DATA_FOREIGNERS, PREPROCESSED_STADA_SOCIAL_ASSISTANCE_RATE, PREPROCESSED_STADA_FISCAL_POWER, PREPROCESSED_WIKIPEDIA_COMMUNITY_STATS\n",
    "\n",
    "os.makedirs(PREPROCESSED_DIR, exist_ok=True)"
   ]
  },
  {
   "cell_type": "markdown",
   "metadata": {},
   "source": [
    "## Source: Statistikdatenbank St. Gallen (Stada)\n",
    "Für diesen Datensatz musten folgende Korrekturen vorgenommen werden:\n",
    "* Korrektur Gemeindenamen: Gemeinden, welche Anfangs 2023 fusioniert haben, haben bei dieser Datenquellen einen entsprechenden Zusatz im Namen \"(2022)\". Dieser Zusatz wurde entfernt. Zudem musste die Schreibweise von St. Gallen und St. Margrethen denjenigen der anderen Quellen angeglichen werden\n",
    "* Ergänzung fehlender Sozialhilfequote: Bei den Gemeinden, welche im 2023 fusionierten, waren keine Zahlen für die Sozialhilfequote im Jahr 2022 in den heruntergeladenen Daten vorhanden. Die Daten konnten aber beim Statistikamt des Kantons St. Gallen in einem Bericht über die Gemeinden ausfindig gemacht werden."
   ]
  },
  {
   "cell_type": "code",
   "execution_count": 2,
   "metadata": {},
   "outputs": [],
   "source": [
    "def process_stada_data(input_file_name, output_file_name):\n",
    "\n",
    "    data = pd.read_excel(input_file_name, names=['bfs_nr', 'community_name', 'category', 'dataset', 'subset', 'indicator_id', 'indicator_name', 'indicator_year', 'value', 'unit_short', 'unit_long'])\n",
    "    \n",
    "    # cleanup community names\n",
    "    data['community_name'].replace({\n",
    "        'Hemberg (bis 2022)': 'Hemberg',\n",
    "        'Neckertal (bis 2022)': 'Neckertal',\n",
    "        'Oberhelfenschwil (bis 2022)': 'Oberhelfenschwil',\n",
    "        'Stadt St.Gallen': 'St. Gallen',\n",
    "        'St.Margrethen': 'St. Margrethen'\n",
    "    }, inplace=True)\n",
    "\n",
    "    if(input_file_name == SOURCE_STADA_SOCIAL_ASSISTANCE_RATE):\n",
    "        # social assistance rate is missing for communities which will merge in 2023. Data is available here: https://www.sg.ch/content/dam/sgch/kanton-stgallen/statistik/b13/B13_01_Gemeindekennzahlen.pdf\n",
    "        data.loc[data['community_name'] == 'Neckertal', 'value'] = 2.0\n",
    "        data.loc[data['community_name'] == 'Hemberg', 'value'] = 0.6\n",
    "        data.loc[data['community_name'] == 'Oberhelfenschwil', 'value'] = 0.3\n",
    "    \n",
    "    # sort by community_name and write to csv\n",
    "    columns_to_write = ['bfs_nr', 'community_name', 'value']\n",
    "    data = data.sort_values(by='community_name').reset_index(drop=True)\n",
    "    data[columns_to_write].to_csv(output_file_name, index=False)\n",
    "    \n",
    "    return data['bfs_nr'], data['community_name']"
   ]
  },
  {
   "cell_type": "code",
   "execution_count": 3,
   "metadata": {},
   "outputs": [
    {
     "name": "stderr",
     "output_type": "stream",
     "text": [
      "C:\\Users\\dario\\AppData\\Local\\Packages\\PythonSoftwareFoundation.Python.3.11_qbz5n2kfra8p0\\LocalCache\\local-packages\\Python311\\site-packages\\openpyxl\\styles\\stylesheet.py:226: UserWarning: Workbook contains no default style, apply openpyxl's default\n",
      "  warn(\"Workbook contains no default style, apply openpyxl's default\")\n",
      "C:\\Users\\dario\\AppData\\Local\\Packages\\PythonSoftwareFoundation.Python.3.11_qbz5n2kfra8p0\\LocalCache\\local-packages\\Python311\\site-packages\\openpyxl\\styles\\stylesheet.py:226: UserWarning: Workbook contains no default style, apply openpyxl's default\n",
      "  warn(\"Workbook contains no default style, apply openpyxl's default\")\n"
     ]
    }
   ],
   "source": [
    "bfs_nrs_stada_fiscal_power, community_names_stada_fiscal_power = process_stada_data(SOURCE_STADA_FISCAL_POWER, PREPROCESSED_STADA_FISCAL_POWER)\n",
    "bfs_nrs_stada_social_assistance, community_names_stada_social_assistance = process_stada_data(SOURCE_STADA_SOCIAL_ASSISTANCE_RATE, PREPROCESSED_STADA_SOCIAL_ASSISTANCE_RATE)"
   ]
  },
  {
   "cell_type": "markdown",
   "metadata": {},
   "source": [
    "## Source: Bundesamt für Statistik (BFS)\n",
    "Für diese Quelle mussten keine Daten korrigiert werden. Es wurden lediglich Spalten entfernt, welche nicht benötigt werden.\n",
    "\n",
    "Das Datenset beinhaltet Werte für alle Gemeinden der Schweiz, weswegen eine Filterung auf die Gemeinden des Kantons St. Gallen vorgenommen werden muss."
   ]
  },
  {
   "cell_type": "code",
   "execution_count": 4,
   "metadata": {},
   "outputs": [],
   "source": [
    "def process_bfs_data(input_file_name, output_file_name):\n",
    "    data = pd.read_excel(input_file_name, skiprows=6, skipfooter=11, header=None, names=['bfs_nr', 'community_name', 'number_of_foreigners', 'foreigners_percentage'])\n",
    "\n",
    "    # filter communities in canton St. Gallen\n",
    "    data = pd.merge(data, bfs_nrs_stada_fiscal_power, on='bfs_nr', how='inner')\n",
    "\n",
    "    # sort by community_name and write to csv\n",
    "    data = data.sort_values(by='community_name').reset_index(drop=True)\n",
    "    data.to_csv(output_file_name, index=False)\n",
    "\n",
    "    return data['bfs_nr'], data['community_name']"
   ]
  },
  {
   "cell_type": "code",
   "execution_count": 5,
   "metadata": {},
   "outputs": [],
   "source": [
    "bfs_nrs_bfs, community_names_bfs = process_bfs_data(SOURCE_BFS_DATA_FOREIGNERS, PREPROCESSED_BFS_DATA_FOREIGNERS)"
   ]
  },
  {
   "cell_type": "markdown",
   "metadata": {},
   "source": [
    "## Source: Wikipedia\n",
    "Für diesen Datensatz musten folgende Korrekturen vorgenommen werden:\n",
    "* Ersetzung von Hochkommas in Zahlen-Attributen\n",
    "* Korrektur von Gemeindenamen: Rüthi musste der Schreibweise der anderen Datenquellen angepasst werden\n",
    "* Einfügen von fehlenden Werten: Gemeinden, welche 2023 fusioniert haben, sind für das Jahr 2022 keine Daten vorhanden. In den einzelnen Wikipedia-Artikel konnten die Informationen jedoch gefunden werden."
   ]
  },
  {
   "cell_type": "code",
   "execution_count": 6,
   "metadata": {},
   "outputs": [],
   "source": [
    "def replace_values(data, community_name, values):\n",
    "    matching_rows = data['community_name'] == community_name\n",
    "    data.loc[matching_rows, ['number_of_inhabitants', 'area', 'inhabitants_per_km2']] = values\n",
    "\n",
    "def process_wikipedia_data(input_file_name, output_file_name):\n",
    "    columns_to_write = ['community_name', 'number_of_inhabitants', 'area', 'inhabitants_per_km2', 'district', 'electoral_district']\n",
    "    data = pd.read_csv(input_file_name, engine='python', skiprows=1, skipfooter=1, names=['coat_of_arms', 'community_name', 'number_of_inhabitants', 'area', 'inhabitants_per_km2', 'district', 'electoral_district'])\n",
    "\n",
    "    # cleanup community names\n",
    "    data['community_name'].replace('Rüthi', 'Rüthi (SG)', inplace=True)\n",
    "\n",
    "    # communities which merged in 2023 are not displayed correctly in the wikipedia-article-version in 2022.\n",
    "    replace_values(data, \"Hemberg\", ['954', '20.15', '47'])           # source: https://de.wikipedia.org/w/index.php?title=Hemberg_SG&oldid=237114098\n",
    "    replace_values(data, \"Neckertal\", ['6324', '81.84', '77'])        # source: https://de.wikipedia.org/w/index.php?title=Neckertal&oldid=241298594\n",
    "    replace_values(data, \"Oberhelfenschwil\", ['1246', '12.68', '98']) # source: https://de.wikipedia.org/w/index.php?title=Oberhelfenschwil&oldid=242348540\n",
    "\n",
    "    # fix numbers formats\n",
    "    data['number_of_inhabitants'] = data['number_of_inhabitants'].str.replace('\\'', '')\n",
    "    data['area'] = data['area'].str.replace('\\'', '')\n",
    "    data['inhabitants_per_km2'] = data['inhabitants_per_km2'].str.replace('\\'', '')\n",
    "\n",
    "    # sort by community_name and write to csv\n",
    "    data = data.sort_values(by='community_name').reset_index(drop=True)\n",
    "    data[columns_to_write].to_csv(output_file_name, index=False)\n",
    "\n",
    "    return data['community_name']"
   ]
  },
  {
   "cell_type": "code",
   "execution_count": 7,
   "metadata": {},
   "outputs": [],
   "source": [
    "community_names_wikipedia = process_wikipedia_data(SOURCE_WIKIPEDIA_COMMUNITY_STATS, PREPROCESSED_WIKIPEDIA_COMMUNITY_STATS)"
   ]
  },
  {
   "cell_type": "markdown",
   "metadata": {},
   "source": [
    "## Validierung der aufbereiteten Daten\n",
    "In diesem Abschnitt werden die Datensätze gegeneinander validiert:\n",
    "* Überprüfung, ob die BFS-Nummern in allen Datensätzen identisch sind (Wikipedia-Datensatz beinhaltet keine BFS-Nummern)\n",
    "* Überprüfung, ob die Gemeinde-Namen in allen Datensätzen identisch sind\n",
    "* Überprüfung, ob alle Attribute aller Datensätze einen Wert haben\n",
    "* Überprüfung, ob numerische Attribute numerische Werte haben\n",
    "* Überprüfung, ob Attribute mit prozentualen Werten ausschliesslich Werte zwischen 0 und 100 haben"
   ]
  },
  {
   "cell_type": "code",
   "execution_count": 8,
   "metadata": {},
   "outputs": [],
   "source": [
    "assert bfs_nrs_stada_fiscal_power.equals(bfs_nrs_stada_social_assistance)\n",
    "assert bfs_nrs_stada_social_assistance.equals(bfs_nrs_bfs)\n",
    "\n",
    "assert community_names_stada_fiscal_power.equals(community_names_stada_social_assistance) \n",
    "assert community_names_stada_social_assistance.equals(community_names_bfs)\n",
    "assert community_names_bfs.equals(community_names_wikipedia)\n",
    "\n",
    "bfs_foreigners = pd.read_csv(PREPROCESSED_BFS_DATA_FOREIGNERS)\n",
    "stada_fiscal_power = pd.read_csv(PREPROCESSED_STADA_FISCAL_POWER)\n",
    "stada_social_assistance = pd.read_csv(PREPROCESSED_STADA_SOCIAL_ASSISTANCE_RATE)\n",
    "wikipedia_data = pd.read_csv(PREPROCESSED_WIKIPEDIA_COMMUNITY_STATS)\n",
    "\n",
    "assert pd.to_numeric(bfs_foreigners['bfs_nr'], errors='coerce').notna().all()\n",
    "assert bfs_foreigners['community_name'].notna().all()\n",
    "assert pd.to_numeric(bfs_foreigners['number_of_foreigners'], errors='coerce').notna().all()\n",
    "assert pd.to_numeric(bfs_foreigners['foreigners_percentage'], errors='coerce').notna().all()\n",
    "assert ((bfs_foreigners['foreigners_percentage'] >= 0) & (bfs_foreigners['foreigners_percentage'] <= 100)).all()\n",
    "\n",
    "assert pd.to_numeric(stada_fiscal_power['bfs_nr'], errors='coerce').notna().all()\n",
    "assert stada_fiscal_power['community_name'].notna().all()\n",
    "assert pd.to_numeric(stada_fiscal_power['value'], errors='coerce').notna().all()\n",
    "\n",
    "assert pd.to_numeric(stada_social_assistance['bfs_nr'], errors='coerce').notna().all()\n",
    "assert stada_social_assistance['community_name'].notna().all()\n",
    "assert pd.to_numeric(stada_social_assistance['value'], errors='coerce').notna().all()\n",
    "assert ((stada_social_assistance['value'] >= 0) & (stada_social_assistance['value'] <= 100)).all()\n",
    "\n",
    "assert wikipedia_data['community_name'].notna().all()\n",
    "assert pd.to_numeric(wikipedia_data['number_of_inhabitants'], errors='coerce').notna().all()\n",
    "assert pd.to_numeric(wikipedia_data['area'], errors='coerce').notna().all()\n",
    "assert pd.to_numeric(wikipedia_data['inhabitants_per_km2'], errors='coerce').notna().all()\n",
    "assert wikipedia_data['district'].notna().all()\n",
    "assert wikipedia_data['electoral_district'].notna().all()"
   ]
  }
 ],
 "metadata": {
  "kernelspec": {
   "display_name": "Python 3",
   "language": "python",
   "name": "python3"
  },
  "language_info": {
   "codemirror_mode": {
    "name": "ipython",
    "version": 3
   },
   "file_extension": ".py",
   "mimetype": "text/x-python",
   "name": "python",
   "nbconvert_exporter": "python",
   "pygments_lexer": "ipython3",
   "version": "3.11.8"
  }
 },
 "nbformat": 4,
 "nbformat_minor": 2
}
