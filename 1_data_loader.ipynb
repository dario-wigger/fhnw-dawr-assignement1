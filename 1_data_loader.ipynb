{
 "cells": [
  {
   "cell_type": "markdown",
   "metadata": {},
   "source": [
    "# Data Loader\n",
    "Dieses Notebook lädt die Source-Daten und speichert sie im Ordner 1_sources ab.\n",
    "Geladen werden Daten von folgenden Quellen:\n",
    "\n",
    "* Bundesamt für Statistik (BFS): Zahlen zum Ausländeranteil jeder Gemeinde (Stand 2022).\n",
    "* Statistikdatenbank St. Gallen (Stada): \n",
    "    * Sozialhilfequote jeder Gemeinde (Stand 2022)\n",
    "    * Steuerkraft natürlicher Personen jeder Gemeinde (Stand 2021)\n",
    "* Wikipedia: Verschiedene Kennzahlen zu jeder Gemeinde (Stand 2022)\n",
    "\n",
    "Die URLs der Quellen sind in den untenstehenden Methoden ersichtlich "
   ]
  },
  {
   "cell_type": "code",
   "execution_count": 1,
   "metadata": {},
   "outputs": [],
   "source": [
    "import requests\n",
    "import os\n",
    "import pandas as pd\n",
    "from config import SOURCES_DIR, SOURCE_BFS_DATA_FOREIGNERS, SOURCE_STADA_SOCIAL_ASSISTANCE_RATE, SOURCE_STADA_FISCAL_POWER, SOURCE_WIKIPEDIA_COMMUNITY_STATS\n",
    "\n",
    "os.makedirs(SOURCES_DIR, exist_ok=True)"
   ]
  },
  {
   "cell_type": "code",
   "execution_count": 2,
   "metadata": {},
   "outputs": [],
   "source": [
    "def download_file(url, filepath):\n",
    "    response = requests.get(url, verify=False)\n",
    "    if response.status_code == 200:\n",
    "        with open(filepath, 'wb') as f:\n",
    "            f.write(response.content)\n",
    "        print(f\"File downloaded successfully as '{filepath}'\")\n",
    "    else:\n",
    "        print(\"Failed to download file\")\n",
    "\n",
    "def getBfsData():\n",
    "    # Data of 2022\n",
    "    urlForeigners = \"https://www.atlas.bfs.admin.ch/core/projects/13/xshared/xlsx/27125_131.xlsx\"\n",
    "    download_file(urlForeigners, SOURCE_BFS_DATA_FOREIGNERS)\n",
    "\n",
    "def getStadaData():\n",
    "    # Data of 2022\n",
    "    urlSocialAssistance = \"https://stada2.sg.ch:8443/gpsg/GPSG?type=EXPORT&raum=3251,3311,3441,3231,3291,3232,3312,3211,3233,3271,3395,3401,3234,3352,3212,3252,3342,3402,3292,3442,3272,3213,3341,3443,3273,3201,3405,3313,3392,3374,3393,3253,3293,3214,3394,3202,3360,3422,3423,3424,3254,3407,3294,3295,3340,3255,3235,3215,3216,3256,3296,3315,3338,3274,3275,3236,3203,3217,3237,3218,3219,3339,3408,3297,3444,3298,3276,3379,3316,3238,3427,3359,3204,3426,3372,3378,3375&indikatoren=504&jahr=2022&export=XLS\"\n",
    "    download_file(urlSocialAssistance, SOURCE_STADA_SOCIAL_ASSISTANCE_RATE)\n",
    "\n",
    "    # Data of 2021 (data for 2022 not available)\n",
    "    urlFiscalPower = \"https://stada2.sg.ch:8443/gpsg/GPSG?type=EXPORT&raum=3251,3311,3441,3231,3291,3232,3312,3211,3233,3271,3395,3401,3234,3352,3212,3252,3342,3402,3292,3442,3272,3213,3341,3443,3273,3201,3405,3313,3392,3374,3393,3253,3293,3214,3394,3202,3360,3422,3423,3424,3254,3407,3294,3295,3340,3255,3235,3215,3216,3256,3296,3315,3338,3274,3275,3236,3203,3217,3237,3218,3219,3339,3408,3297,3444,3298,3276,3379,3316,3238,3427,3359,3204,3426,3372,3378,3375&indikatoren=432&jahr=2021&export=XLS\"\n",
    "    download_file(urlFiscalPower, SOURCE_STADA_FISCAL_POWER)\n",
    "\n",
    "def getWikipediaData():\n",
    "    # Version of 2022\n",
    "    url = \"https://de.wikipedia.org/w/index.php?title=Gemeinden_des_Kantons_St._Gallen&oldid=225405280\"\n",
    "    df = pd.read_html(url)[0]\n",
    "    df.to_csv(SOURCE_WIKIPEDIA_COMMUNITY_STATS, index=False)"
   ]
  },
  {
   "cell_type": "code",
   "execution_count": 3,
   "metadata": {},
   "outputs": [
    {
     "name": "stderr",
     "output_type": "stream",
     "text": [
      "C:\\Users\\dario\\AppData\\Local\\Packages\\PythonSoftwareFoundation.Python.3.11_qbz5n2kfra8p0\\LocalCache\\local-packages\\Python311\\site-packages\\urllib3\\connectionpool.py:1045: InsecureRequestWarning: Unverified HTTPS request is being made to host 'www.atlas.bfs.admin.ch'. Adding certificate verification is strongly advised. See: https://urllib3.readthedocs.io/en/1.26.x/advanced-usage.html#ssl-warnings\n",
      "  warnings.warn(\n",
      "C:\\Users\\dario\\AppData\\Local\\Packages\\PythonSoftwareFoundation.Python.3.11_qbz5n2kfra8p0\\LocalCache\\local-packages\\Python311\\site-packages\\urllib3\\connectionpool.py:1045: InsecureRequestWarning: Unverified HTTPS request is being made to host 'stada2.sg.ch'. Adding certificate verification is strongly advised. See: https://urllib3.readthedocs.io/en/1.26.x/advanced-usage.html#ssl-warnings\n",
      "  warnings.warn(\n"
     ]
    },
    {
     "name": "stdout",
     "output_type": "stream",
     "text": [
      "File downloaded successfully as '1_sources/bfs_data_foreigners.xlsx'\n",
      "File downloaded successfully as '1_sources/stada_data_social_assistance_rate.xlsx'\n"
     ]
    },
    {
     "name": "stderr",
     "output_type": "stream",
     "text": [
      "C:\\Users\\dario\\AppData\\Local\\Packages\\PythonSoftwareFoundation.Python.3.11_qbz5n2kfra8p0\\LocalCache\\local-packages\\Python311\\site-packages\\urllib3\\connectionpool.py:1045: InsecureRequestWarning: Unverified HTTPS request is being made to host 'stada2.sg.ch'. Adding certificate verification is strongly advised. See: https://urllib3.readthedocs.io/en/1.26.x/advanced-usage.html#ssl-warnings\n",
      "  warnings.warn(\n"
     ]
    },
    {
     "name": "stdout",
     "output_type": "stream",
     "text": [
      "File downloaded successfully as '1_sources/stada_data_fiscal_power.xlsx'\n"
     ]
    }
   ],
   "source": [
    "getBfsData();\n",
    "getStadaData();\n",
    "getWikipediaData();"
   ]
  }
 ],
 "metadata": {
  "kernelspec": {
   "display_name": "Python 3",
   "language": "python",
   "name": "python3"
  },
  "language_info": {
   "codemirror_mode": {
    "name": "ipython",
    "version": 3
   },
   "file_extension": ".py",
   "mimetype": "text/x-python",
   "name": "python",
   "nbconvert_exporter": "python",
   "pygments_lexer": "ipython3",
   "version": "3.11.8"
  }
 },
 "nbformat": 4,
 "nbformat_minor": 2
}
